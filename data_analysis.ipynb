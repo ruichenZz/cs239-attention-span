{
 "cells": [
  {
   "cell_type": "code",
   "execution_count": 2,
   "metadata": {},
   "outputs": [],
   "source": [
    "import matplotlib.pyplot as plt\n",
    "import pandas as pd"
   ]
  },
  {
   "cell_type": "code",
   "execution_count": 3,
   "metadata": {},
   "outputs": [
    {
     "data": {
      "text/html": [
       "<div>\n",
       "<style scoped>\n",
       "    .dataframe tbody tr th:only-of-type {\n",
       "        vertical-align: middle;\n",
       "    }\n",
       "\n",
       "    .dataframe tbody tr th {\n",
       "        vertical-align: top;\n",
       "    }\n",
       "\n",
       "    .dataframe thead th {\n",
       "        text-align: right;\n",
       "    }\n",
       "</style>\n",
       "<table border=\"1\" class=\"dataframe\">\n",
       "  <thead>\n",
       "    <tr style=\"text-align: right;\">\n",
       "      <th></th>\n",
       "      <th>Timestamp</th>\n",
       "      <th>Roughly, what is the proportion of time you spend on watching short video (TikTok, Red Note, Reels, Youtube Shorts) vs long video (Bilibili, Youtube) each week?</th>\n",
       "      <th>Do you have a preferred video format?</th>\n",
       "      <th>What is the most likely reason you stop watching a video?</th>\n",
       "      <th>What attributes or elements of a long video make it more engaging?</th>\n",
       "      <th>Do you experience any decline of attention span in your daily life?</th>\n",
       "      <th>If so, where do you experience it?</th>\n",
       "      <th>Would you blame the decline of attention span to watching short videos?</th>\n",
       "      <th>Do you actively search for content or rely on recommendations?</th>\n",
       "      <th>Which of the following is the most likely reason you would share a video with your friends?</th>\n",
       "      <th>Did you lose focus while completing this survey? Please be honest with us!</th>\n",
       "    </tr>\n",
       "  </thead>\n",
       "  <tbody>\n",
       "    <tr>\n",
       "      <th>0</th>\n",
       "      <td>2/4/2025 9:41:52</td>\n",
       "      <td>75% short videos to 25% long videos</td>\n",
       "      <td>Short Videos</td>\n",
       "      <td>Boring content</td>\n",
       "      <td>Compelling Storytelling – A well-structured na...</td>\n",
       "      <td>Yes</td>\n",
       "      <td>Having difficulty focusing on reading, Can't f...</td>\n",
       "      <td>Yes</td>\n",
       "      <td>Both</td>\n",
       "      <td>Funny Content</td>\n",
       "      <td>No (lie)</td>\n",
       "    </tr>\n",
       "    <tr>\n",
       "      <th>1</th>\n",
       "      <td>2/4/2025 9:47:03</td>\n",
       "      <td>25% short videos to 75% long videos</td>\n",
       "      <td>Long Videos</td>\n",
       "      <td>Content is different from what I expected</td>\n",
       "      <td>Compelling Storytelling – A well-structured na...</td>\n",
       "      <td>Yes</td>\n",
       "      <td>Having difficulty focusing on reading, Can't f...</td>\n",
       "      <td>No</td>\n",
       "      <td>Both</td>\n",
       "      <td>Funny Content</td>\n",
       "      <td>No</td>\n",
       "    </tr>\n",
       "    <tr>\n",
       "      <th>2</th>\n",
       "      <td>2/4/2025 9:47:44</td>\n",
       "      <td>50% short videos to 50% long videos</td>\n",
       "      <td>Long Videos</td>\n",
       "      <td>Content is different from what I expected</td>\n",
       "      <td>Informative or Educational Value – Provides ne...</td>\n",
       "      <td>Yes</td>\n",
       "      <td>Can't focus in class, Having trouble managing ...</td>\n",
       "      <td>Yes</td>\n",
       "      <td>Both</td>\n",
       "      <td>Funny Content</td>\n",
       "      <td>Yes</td>\n",
       "    </tr>\n",
       "    <tr>\n",
       "      <th>3</th>\n",
       "      <td>2/4/2025 9:54:58</td>\n",
       "      <td>25% short videos to 75% long videos</td>\n",
       "      <td>Long Videos</td>\n",
       "      <td>Boring content</td>\n",
       "      <td>Compelling Storytelling – A well-structured na...</td>\n",
       "      <td>No</td>\n",
       "      <td>NaN</td>\n",
       "      <td>No</td>\n",
       "      <td>Both</td>\n",
       "      <td>Funny Content</td>\n",
       "      <td>No</td>\n",
       "    </tr>\n",
       "    <tr>\n",
       "      <th>4</th>\n",
       "      <td>2/4/2025 10:11:17</td>\n",
       "      <td>75% short videos to 25% long videos</td>\n",
       "      <td>No</td>\n",
       "      <td>reached Ad</td>\n",
       "      <td>Compelling Storytelling – A well-structured na...</td>\n",
       "      <td>No</td>\n",
       "      <td>NaN</td>\n",
       "      <td>Yes</td>\n",
       "      <td>Both</td>\n",
       "      <td>Emotional resonance</td>\n",
       "      <td>No</td>\n",
       "    </tr>\n",
       "  </tbody>\n",
       "</table>\n",
       "</div>"
      ],
      "text/plain": [
       "           Timestamp  \\\n",
       "0   2/4/2025 9:41:52   \n",
       "1   2/4/2025 9:47:03   \n",
       "2   2/4/2025 9:47:44   \n",
       "3   2/4/2025 9:54:58   \n",
       "4  2/4/2025 10:11:17   \n",
       "\n",
       "  Roughly, what is the proportion of time you spend on watching short video (TikTok, Red Note, Reels, Youtube Shorts) vs long video (Bilibili, Youtube) each week?  \\\n",
       "0                75% short videos to 25% long videos                                                                                                                 \n",
       "1                25% short videos to 75% long videos                                                                                                                 \n",
       "2                50% short videos to 50% long videos                                                                                                                 \n",
       "3                25% short videos to 75% long videos                                                                                                                 \n",
       "4                75% short videos to 25% long videos                                                                                                                 \n",
       "\n",
       "  Do you have a preferred video format?  \\\n",
       "0                          Short Videos   \n",
       "1                           Long Videos   \n",
       "2                           Long Videos   \n",
       "3                           Long Videos   \n",
       "4                                    No   \n",
       "\n",
       "  What is the most likely reason you stop watching a video?  \\\n",
       "0                                     Boring content          \n",
       "1          Content is different from what I expected          \n",
       "2          Content is different from what I expected          \n",
       "3                                     Boring content          \n",
       "4                                         reached Ad          \n",
       "\n",
       "  What attributes or elements of a long video make it more engaging?  \\\n",
       "0  Compelling Storytelling – A well-structured na...                   \n",
       "1  Compelling Storytelling – A well-structured na...                   \n",
       "2  Informative or Educational Value – Provides ne...                   \n",
       "3  Compelling Storytelling – A well-structured na...                   \n",
       "4  Compelling Storytelling – A well-structured na...                   \n",
       "\n",
       "  Do you experience any decline of attention span in your daily life?   \\\n",
       "0                                                Yes                     \n",
       "1                                                Yes                     \n",
       "2                                                Yes                     \n",
       "3                                                 No                     \n",
       "4                                                 No                     \n",
       "\n",
       "                  If so, where do you experience it?  \\\n",
       "0  Having difficulty focusing on reading, Can't f...   \n",
       "1  Having difficulty focusing on reading, Can't f...   \n",
       "2  Can't focus in class, Having trouble managing ...   \n",
       "3                                                NaN   \n",
       "4                                                NaN   \n",
       "\n",
       "  Would you blame the decline of attention span to watching short videos?  \\\n",
       "0                                                Yes                        \n",
       "1                                                 No                        \n",
       "2                                                Yes                        \n",
       "3                                                 No                        \n",
       "4                                                Yes                        \n",
       "\n",
       "  Do you actively search for content or rely on recommendations?  \\\n",
       "0                                               Both               \n",
       "1                                               Both               \n",
       "2                                               Both               \n",
       "3                                               Both               \n",
       "4                                               Both               \n",
       "\n",
       "  Which of the following is the most likely reason you would share a video with your friends?  \\\n",
       "0                                      Funny Content                                            \n",
       "1                                      Funny Content                                            \n",
       "2                                      Funny Content                                            \n",
       "3                                      Funny Content                                            \n",
       "4                                Emotional resonance                                            \n",
       "\n",
       "  Did you lose focus while completing this survey? Please be honest with us!  \n",
       "0                                           No (lie)                          \n",
       "1                                                 No                          \n",
       "2                                                Yes                          \n",
       "3                                                 No                          \n",
       "4                                                 No                          "
      ]
     },
     "execution_count": 3,
     "metadata": {},
     "output_type": "execute_result"
    }
   ],
   "source": [
    "file_path = \"Attention Span Survey (Responses) - Form Responses 1.csv\"\n",
    "df = pd.read_csv(file_path)\n",
    "\n",
    "# Display the first few rows to understand its structure\n",
    "df.head()"
   ]
  },
  {
   "cell_type": "code",
   "execution_count": 4,
   "metadata": {},
   "outputs": [],
   "source": [
    "df.columns = [\n",
    "    \"Timestamp\",\n",
    "    \"Video Proportion\",\n",
    "    \"Preferred Format\",\n",
    "    \"Stop Watching Reason\",\n",
    "    \"Engaging Attributes\",\n",
    "    \"Attention Decline\",\n",
    "    \"Decline Context\",\n",
    "    \"Blame Short Videos\",\n",
    "    \"Search vs. Recommendation\",\n",
    "    \"Share Reason\",\n",
    "    \"Lost Focus\"\n",
    "]"
   ]
  },
  {
   "cell_type": "code",
   "execution_count": 9,
   "metadata": {},
   "outputs": [
    {
     "data": {
      "text/plain": [
       "Preferred Format\n",
       "Long Videos     12\n",
       "Short Videos     7\n",
       "No               6\n",
       "Name: count, dtype: int64"
      ]
     },
     "execution_count": 9,
     "metadata": {},
     "output_type": "execute_result"
    }
   ],
   "source": [
    "preferred_format_counts = df[\"Preferred Format\"].value_counts()\n",
    "preferred_format_counts"
   ]
  },
  {
   "cell_type": "code",
   "execution_count": 8,
   "metadata": {},
   "outputs": [
    {
     "data": {
      "text/plain": [
       "Video Proportion\n",
       "25% short videos to 75% long videos    11\n",
       "50% short videos to 50% long videos     7\n",
       "75% short videos to 25% long videos     4\n",
       "I only watch short videos               3\n",
       "Name: count, dtype: int64"
      ]
     },
     "execution_count": 8,
     "metadata": {},
     "output_type": "execute_result"
    }
   ],
   "source": [
    "video_proportion_counts = df[\"Video Proportion\"].value_counts()\n",
    "video_proportion_counts"
   ]
  },
  {
   "cell_type": "code",
   "execution_count": 10,
   "metadata": {},
   "outputs": [
    {
     "data": {
      "text/plain": [
       "Stop Watching Reason\n",
       "Boring content                               11\n",
       "Content is different from what I expected     7\n",
       "Pace is too slow                              5\n",
       "reached Ad                                    1\n",
       "Time consuming                                1\n",
       "Name: count, dtype: int64"
      ]
     },
     "execution_count": 10,
     "metadata": {},
     "output_type": "execute_result"
    }
   ],
   "source": [
    "stop_watching_counts = df[\"Stop Watching Reason\"].value_counts()\n",
    "stop_watching_counts"
   ]
  },
  {
   "cell_type": "code",
   "execution_count": 11,
   "metadata": {},
   "outputs": [
    {
     "data": {
      "text/plain": [
       "Blame Short Videos\n",
       "Yes    13\n",
       "No     12\n",
       "Name: count, dtype: int64"
      ]
     },
     "execution_count": 11,
     "metadata": {},
     "output_type": "execute_result"
    }
   ],
   "source": [
    "blame_short_videos_counts = df[\"Blame Short Videos\"].value_counts()\n",
    "blame_short_videos_counts"
   ]
  },
  {
   "cell_type": "code",
   "execution_count": 12,
   "metadata": {},
   "outputs": [
    {
     "data": {
      "text/plain": [
       "Lost Focus\n",
       "No          18\n",
       "Yes          4\n",
       "No (lie)     3\n",
       "Name: count, dtype: int64"
      ]
     },
     "execution_count": 12,
     "metadata": {},
     "output_type": "execute_result"
    }
   ],
   "source": [
    "df[\"Lost Focus\"].value_counts()"
   ]
  },
  {
   "cell_type": "code",
   "execution_count": null,
   "metadata": {},
   "outputs": [],
   "source": []
  }
 ],
 "metadata": {
  "kernelspec": {
   "display_name": "toxic",
   "language": "python",
   "name": "python3"
  },
  "language_info": {
   "codemirror_mode": {
    "name": "ipython",
    "version": 3
   },
   "file_extension": ".py",
   "mimetype": "text/x-python",
   "name": "python",
   "nbconvert_exporter": "python",
   "pygments_lexer": "ipython3",
   "version": "3.12.8"
  }
 },
 "nbformat": 4,
 "nbformat_minor": 2
}
